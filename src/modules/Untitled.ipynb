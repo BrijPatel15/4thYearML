{
 "cells": [
  {
   "cell_type": "code",
   "execution_count": 1,
   "metadata": {},
   "outputs": [
    {
     "name": "stderr",
     "output_type": "stream",
     "text": [
      "music21: Certain music21 functions might need these optional packages: matplotlib, scipy;\n",
      "                   if you run into errors, install them by following the instructions at\n",
      "                   http://mit.edu/music21/doc/installing/installAdditional.html\n"
     ]
    }
   ],
   "source": [
    "import MidiParser as midi\n",
    "import pandas as pd\n",
    "import sys\n",
    "from EventByteConverter import dataFrameToByteConverter\n",
    "GOOD_MIDI_PATH = \"John_Denver_-_Take_Me_Home_Country_Roads.mid\"\n",
    "#was re-exported to midi with Guitar from: https://onlinesequencer.net\n",
    "GOOD_MIDI_PATH_1 = \"../../music/Stitches_by_Shawn_Mendes_.mid\"\n",
    "GOOD_MIDI_PATH_2 = \"i_see_fire.mid\"\n",
    "events = midi.parse_notes(GOOD_MIDI_PATH_1)"
   ]
  },
  {
   "cell_type": "code",
   "execution_count": 4,
   "metadata": {},
   "outputs": [],
   "source": [
    "#scheduler playground\n",
    "import sched, time\n",
    "\n",
    "\n",
    "def send_event(name=None, event=None):\n",
    "    # print(\"Notes\", time.time(), note) #change this to actually send something when implemented\n",
    "#     spi = spidev.SpiDev()\n",
    "    print(name,' ', event)\n",
    "    messageToSend = dataFrameToByteConverter(name, event)\n",
    "#     spi.open(0,1)\n",
    "#     spi.max_speed_hz = 500000\n",
    "#     spi.mode=0\n",
    "#     resp = spi.xfer2([messageToSend])\n",
    "#     print(resp)\n",
    "    \n",
    "def schedule_events(df, s):\n",
    "    if df.empty:\n",
    "        raise Exception(\"No events provided.\")\n",
    "    s.enter(3,1,send_event, argument=('CLAP CLAP CLAP',))\n",
    "    x1=0\n",
    "    x2=0\n",
    "    for index, row in df.head(n=len(df)).iterrows():\n",
    "        times =row['timeOffset']\n",
    "        x2=times\n",
    "        difference = x2-x1   \n",
    "        x1=x2;\n",
    "        name = row['name']\n",
    "        event = row['event']\n",
    "        s.enter(3+times, 1, send_event, argument=(name,event))\n",
    "\n"
   ]
  },
  {
   "cell_type": "code",
   "execution_count": 5,
   "metadata": {},
   "outputs": [
    {
     "name": "stdout",
     "output_type": "stream",
     "text": [
      "CLAP CLAP CLAP   None\n",
      "A2   Note\n",
      "['C4', 'E4']   Chord\n",
      "['C4', 'E4']   Chord\n",
      "['C4', 'E4']   Chord\n",
      "G2   Note\n",
      "['B3', 'D4']   Chord\n",
      "['B3', 'D4']   Chord\n",
      "['B3', 'D4']   Chord\n",
      "C3   Note\n",
      "['C4', 'E4']   Chord\n",
      "['C4', 'E4']   Chord\n",
      "['C4', 'E4']   Chord\n",
      "F2   Note\n",
      "['A3', 'C4']   Chord\n",
      "['A3', 'C4']   Chord\n",
      "['A3', 'C4']   Chord\n",
      "A2   Note\n",
      "A3   Note\n",
      "G3   Note\n",
      "E3   Note\n",
      "['G2', 'A3']   Chord\n",
      "G3   Note\n",
      "E3   Note\n",
      "D3   Note\n",
      "E3   Note\n",
      "C3   Note\n"
     ]
    },
    {
     "ename": "KeyboardInterrupt",
     "evalue": "",
     "output_type": "error",
     "traceback": [
      "\u001b[0;31m---------------------------------------------------------------------------\u001b[0m",
      "\u001b[0;31mKeyboardInterrupt\u001b[0m                         Traceback (most recent call last)",
      "\u001b[0;32m<ipython-input-5-3cfd486ddae8>\u001b[0m in \u001b[0;36m<module>\u001b[0;34m\u001b[0m\n\u001b[1;32m      2\u001b[0m \u001b[0ms\u001b[0m \u001b[0;34m=\u001b[0m\u001b[0msched\u001b[0m\u001b[0;34m.\u001b[0m\u001b[0mscheduler\u001b[0m\u001b[0;34m(\u001b[0m\u001b[0mtime\u001b[0m\u001b[0;34m.\u001b[0m\u001b[0mtime\u001b[0m\u001b[0;34m,\u001b[0m \u001b[0mtime\u001b[0m\u001b[0;34m.\u001b[0m\u001b[0msleep\u001b[0m\u001b[0;34m)\u001b[0m\u001b[0;34m\u001b[0m\u001b[0;34m\u001b[0m\u001b[0m\n\u001b[1;32m      3\u001b[0m \u001b[0mschedule_events\u001b[0m\u001b[0;34m(\u001b[0m\u001b[0mevents\u001b[0m\u001b[0;34m,\u001b[0m \u001b[0ms\u001b[0m\u001b[0;34m)\u001b[0m\u001b[0;34m\u001b[0m\u001b[0;34m\u001b[0m\u001b[0m\n\u001b[0;32m----> 4\u001b[0;31m \u001b[0ms\u001b[0m\u001b[0;34m.\u001b[0m\u001b[0mrun\u001b[0m\u001b[0;34m(\u001b[0m\u001b[0;34m)\u001b[0m\u001b[0;34m\u001b[0m\u001b[0;34m\u001b[0m\u001b[0m\n\u001b[0m\u001b[1;32m      5\u001b[0m \u001b[0;34m\u001b[0m\u001b[0m\n\u001b[1;32m      6\u001b[0m \u001b[0;32mimport\u001b[0m \u001b[0mos\u001b[0m\u001b[0;34m,\u001b[0m \u001b[0mpsutil\u001b[0m\u001b[0;34m\u001b[0m\u001b[0;34m\u001b[0m\u001b[0m\n",
      "\u001b[0;32m/Library/Frameworks/Python.framework/Versions/3.7/lib/python3.7/sched.py\u001b[0m in \u001b[0;36mrun\u001b[0;34m(self, blocking)\u001b[0m\n\u001b[1;32m    147\u001b[0m                 \u001b[0;32mif\u001b[0m \u001b[0;32mnot\u001b[0m \u001b[0mblocking\u001b[0m\u001b[0;34m:\u001b[0m\u001b[0;34m\u001b[0m\u001b[0;34m\u001b[0m\u001b[0m\n\u001b[1;32m    148\u001b[0m                     \u001b[0;32mreturn\u001b[0m \u001b[0mtime\u001b[0m \u001b[0;34m-\u001b[0m \u001b[0mnow\u001b[0m\u001b[0;34m\u001b[0m\u001b[0;34m\u001b[0m\u001b[0m\n\u001b[0;32m--> 149\u001b[0;31m                 \u001b[0mdelayfunc\u001b[0m\u001b[0;34m(\u001b[0m\u001b[0mtime\u001b[0m \u001b[0;34m-\u001b[0m \u001b[0mnow\u001b[0m\u001b[0;34m)\u001b[0m\u001b[0;34m\u001b[0m\u001b[0;34m\u001b[0m\u001b[0m\n\u001b[0m\u001b[1;32m    150\u001b[0m             \u001b[0;32melse\u001b[0m\u001b[0;34m:\u001b[0m\u001b[0;34m\u001b[0m\u001b[0;34m\u001b[0m\u001b[0m\n\u001b[1;32m    151\u001b[0m                 \u001b[0maction\u001b[0m\u001b[0;34m(\u001b[0m\u001b[0;34m*\u001b[0m\u001b[0margument\u001b[0m\u001b[0;34m,\u001b[0m \u001b[0;34m**\u001b[0m\u001b[0mkwargs\u001b[0m\u001b[0;34m)\u001b[0m\u001b[0;34m\u001b[0m\u001b[0;34m\u001b[0m\u001b[0m\n",
      "\u001b[0;31mKeyboardInterrupt\u001b[0m: "
     ]
    }
   ],
   "source": [
    "\n",
    "s =sched.scheduler(time.time, time.sleep)\n",
    "schedule_events(events, s)\n",
    "s.run()\n",
    "\n",
    "import os, psutil\n",
    "pid = os.getpid()\n",
    "print(pid)\n",
    "ps = psutil.Process(pid)\n",
    "\n",
    "memoryUse = ps.memory_info()\n",
    "print(memoryUse.vms)"
   ]
  },
  {
   "cell_type": "code",
   "execution_count": null,
   "metadata": {},
   "outputs": [],
   "source": []
  }
 ],
 "metadata": {
  "kernelspec": {
   "display_name": "Python 3",
   "language": "python",
   "name": "python3"
  },
  "language_info": {
   "codemirror_mode": {
    "name": "ipython",
    "version": 3
   },
   "file_extension": ".py",
   "mimetype": "text/x-python",
   "name": "python",
   "nbconvert_exporter": "python",
   "pygments_lexer": "ipython3",
   "version": "3.7.3"
  }
 },
 "nbformat": 4,
 "nbformat_minor": 2
}
