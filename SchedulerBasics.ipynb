{
 "cells": [
  {
   "cell_type": "code",
   "execution_count": 9,
   "metadata": {},
   "outputs": [],
   "source": [
    "import src.modules.MidiParser as midi\n",
    "import pandas as pd\n",
    "import sys\n",
    "GOOD_MIDI_PATH = \"music/John_Denver_-_Take_Me_Home_Country_Roads.mid\"\n",
    "#was re-exported to midi with Guitar from: https://onlinesequencer.net\n",
    "GOOD_MIDI_PATH_1 = \"music/Stitches_by_Shawn_Mendes_.mid\"\n",
    "GOOD_MIDI_PATH_2 = \"music/i_see_fire.mid\""
   ]
  },
  {
   "cell_type": "code",
   "execution_count": 16,
   "metadata": {},
   "outputs": [
    {
     "name": "stdout",
     "output_type": "stream",
     "text": [
      "True\n",
      "True\n"
     ]
    }
   ],
   "source": [
    "print(midi.validate_file(GOOD_MIDI_PATH_1))\n",
    "events = midi.parse_notes(GOOD_MIDI_PATH_1)\n",
    "events.head()\n",
    "# print (GOOD_MIDI_PATH_1, sys.getsizeof(events),\"bytes\")\n",
    "\n",
    "print(midi.validate_file(GOOD_MIDI_PATH_2))\n",
    "# events = midi.parse_notes(GOOD_MIDI_PATH_2)\n",
    "# events.head()\n",
    "# print (GOOD_MIDI_PATH_2, sys.getsizeof(events), \"bytes\")"
   ]
  },
  {
   "cell_type": "code",
   "execution_count": 3,
   "metadata": {},
   "outputs": [
    {
     "data": {
      "text/plain": [
       "130.0"
      ]
     },
     "execution_count": 3,
     "metadata": {},
     "output_type": "execute_result"
    }
   ],
   "source": [
    "midi.get_tempo(GOOD_MIDI_PATH_1)"
   ]
  },
  {
   "cell_type": "code",
   "execution_count": 4,
   "metadata": {},
   "outputs": [
    {
     "data": {
      "text/plain": [
       "0.9230769230769231"
      ]
     },
     "execution_count": 4,
     "metadata": {},
     "output_type": "execute_result"
    }
   ],
   "source": [
    "midi.get_duration_seconds(130,2)"
   ]
  },
  {
   "cell_type": "code",
   "execution_count": 5,
   "metadata": {},
   "outputs": [],
   "source": [
    "#scheduler playground\n",
    "import sched, time\n",
    "\n",
    "\n",
    "def send_event(note=None, diff=None):\n",
    "    print(\"Notes\", time.time(), note, \"Delta:\"+str(diff)) #change this to actually send something\n",
    "    \n",
    "def schedule_events(df, s):\n",
    "    if df.empty:\n",
    "        raise Exception(\"No events provided.\")\n",
    "    s.enter(3,1,send_event, argument=('CLAP CLAP CLAP',))\n",
    "    x1=0\n",
    "    x2=0\n",
    "    for index, row in df.head(n=len(df)).iterrows():\n",
    "        times =row['timeOffset']\n",
    "        x2=times\n",
    "        difference = x2-x1   \n",
    "        x1=x2;\n",
    "        note = row['name']\n",
    "        s.enter(3+times, 1, send_event, argument=(note,difference))\n",
    "\n"
   ]
  },
  {
   "cell_type": "code",
   "execution_count": 8,
   "metadata": {},
   "outputs": [
    {
     "name": "stdout",
     "output_type": "stream",
     "text": [
      "Notes 1562620088.982624 CLAP CLAP CLAP Delta:None\n",
      "Notes 1562620088.982944 A2 Delta:0.0\n",
      "Notes 1562620089.447716 ['C4', 'E4'] Delta:0.46153846153846156\n",
      "Notes 1562620089.9083068 ['C4', 'E4'] Delta:0.46153846153846156\n",
      "Notes 1562620090.3725429 ['C4', 'E4'] Delta:0.46153846153846145\n",
      "Notes 1562620090.83478 G2 Delta:0.4615384615384617\n",
      "Notes 1562620091.297051 ['B3', 'D4'] Delta:0.4615384615384617\n",
      "Notes 1562620091.7588649 ['B3', 'D4'] Delta:0.4615384615384617\n",
      "Notes 1562620092.218009 ['B3', 'D4'] Delta:0.4615384615384617\n",
      "Notes 1562620092.6826408 C3 Delta:0.4615384615384617\n",
      "Notes 1562620093.140722 ['C4', 'E4'] Delta:0.46153846153846123\n",
      "Notes 1562620093.606179 ['C4', 'E4'] Delta:0.4615384615384617\n",
      "Notes 1562620094.067594 ['C4', 'E4'] Delta:0.4615384615384617\n",
      "Notes 1562620094.524585 F2 Delta:0.4615384615384617\n",
      "Notes 1562620094.991442 ['A3', 'C4'] Delta:0.4615384615384617\n",
      "Notes 1562620095.452876 ['A3', 'C4'] Delta:0.4615384615384617\n",
      "Notes 1562620095.9121778 ['A3', 'C4'] Delta:0.4615384615384617\n",
      "Notes 1562620096.371785 A2 Delta:0.4615384615384617\n",
      "Notes 1562620096.8337011 A3 Delta:0.4615384615384617\n",
      "Notes 1562620097.299087 G3 Delta:0.4615384615384608\n",
      "Notes 1562620097.757799 E3 Delta:0.4615384615384617\n",
      "Notes 1562620098.218973 ['G2', 'A3'] Delta:0.4615384615384617\n",
      "Notes 1562620098.6847959 G3 Delta:0.4615384615384617\n",
      "Notes 1562620099.146778 E3 Delta:0.4615384615384617\n",
      "Notes 1562620099.606621 D3 Delta:0.4615384615384617\n",
      "Notes 1562620099.8344162 E3 Delta:0.23076923076922995\n",
      "Notes 1562620100.065585 C3 Delta:0.23076923076922995\n",
      "Notes 1562620100.5268328 ['C4', 'E4'] Delta:0.4615384615384617\n",
      "Notes 1562620100.9934561 ['C4', 'E4'] Delta:0.4615384615384617\n",
      "Notes 1562620101.4548008 ['C4', 'E4'] Delta:0.4615384615384617\n",
      "Notes 1562620101.914479 F2 Delta:0.4615384615384617\n",
      "Notes 1562620102.373533 ['A3', 'C4'] Delta:0.4615384615384617\n",
      "Notes 1562620102.8348749 ['A3', 'C4'] Delta:0.4615384615384617\n",
      "Notes 1562620103.296491 D3 Delta:0.4615384615384617\n",
      "Notes 1562620103.532494 E3 Delta:0.23076923076922995\n",
      "Notes 1562620103.993854 D3 Delta:0.4615384615384617\n",
      "Notes 1562620104.219936 E3 Delta:0.23076923076922995\n",
      "Notes 1562620104.686634 D3 Delta:0.4615384615384617\n",
      "Notes 1562620104.91606 E3 Delta:0.23076923076922995\n",
      "Notes 1562620105.375815 D3 Delta:0.4615384615384617\n",
      "Notes 1562620105.606137 C3 Delta:0.23076923076922995\n",
      "Notes 1562620106.067043 D3 Delta:0.4615384615384599\n",
      "Notes 1562620106.5332181 C3 Delta:0.4615384615384599\n",
      "Notes 1562620106.9924748 D3 Delta:0.4615384615384599\n",
      "Notes 1562620107.222155 C3 Delta:0.23076923076922995\n",
      "Notes 1562620107.913244 ['C4', 'E4'] Delta:0.6923076923076934\n",
      "Notes 1562620108.380084 ['C4', 'E4'] Delta:0.4615384615384599\n",
      "Notes 1562620108.840535 ['C4', 'E4'] Delta:0.4615384615384599\n",
      "Notes 1562620109.298435 F2 Delta:0.4615384615384599\n",
      "Notes 1562620109.764695 ['A3', 'C4'] Delta:0.4615384615384599\n",
      "Notes 1562620110.221746 ['A3', 'C4'] Delta:0.4615384615384599\n",
      "Notes 1562620110.68658 ['A3', 'C4'] Delta:0.4615384615384599\n",
      "Notes 1562620111.149617 A2 Delta:0.4615384615384599\n",
      "Notes 1562620111.6114829 A3 Delta:0.4615384615384599\n",
      "Notes 1562620112.073217 G3 Delta:0.4615384615384599\n",
      "Notes 1562620112.5336268 E3 Delta:0.4615384615384599\n",
      "Notes 1562620112.996557 ['G2', 'A3'] Delta:0.4615384615384599\n",
      "Notes 1562620113.456942 G3 Delta:0.4615384615384599\n",
      "Notes 1562620113.920007 E3 Delta:0.4615384615384599\n",
      "Notes 1562620114.382306 D3 Delta:0.4615384615384599\n",
      "Notes 1562620114.6076381 E3 Delta:0.23076923076922995\n",
      "Notes 1562620114.838946 C3 Delta:0.23076923076922995\n",
      "Notes 1562620115.3053088 ['C4', 'E4'] Delta:0.4615384615384599\n",
      "Notes 1562620115.7625542 ['C4', 'E4'] Delta:0.4615384615384599\n",
      "Notes 1562620116.225612 ['C4', 'E4'] Delta:0.4615384615384599\n",
      "Notes 1562620116.685647 F2 Delta:0.4615384615384599\n",
      "Notes 1562620116.916012 ['A3', 'C4'] Delta:0.23076923076922995\n",
      "Notes 1562620117.377867 ['A3', 'C4'] Delta:0.4615384615384599\n",
      "Notes 1562620117.84438 C3 Delta:0.4615384615384599\n",
      "Notes 1562620118.070326 D3 Delta:0.23076923076922995\n",
      "Notes 1562620118.3009548 E3 Delta:0.23076923076922995\n",
      "Notes 1562620118.5324001 A2 Delta:0.23076923076922995\n",
      "Notes 1562620118.766554 D3 Delta:0.23076923076922995\n",
      "Notes 1562620119.225161 D3 Delta:0.4615384615384599\n",
      "Notes 1562620119.917394 C3 Delta:0.6923076923076934\n",
      "Notes 1562620120.1494458 E3 Delta:0.23076923076922995\n",
      "Notes 1562620120.379034 D3 Delta:0.23076923076922995\n",
      "Notes 1562620120.84154 C3 Delta:0.4615384615384599\n",
      "Notes 1562620121.538177 D3 Delta:0.6923076923076934\n",
      "Notes 1562620121.764111 C3 Delta:0.2307692307692335\n",
      "Notes 1562620122.230996 ['C4', 'E4'] Delta:0.4615384615384599\n",
      "Notes 1562620122.692647 ['C4', 'E4'] Delta:0.4615384615384599\n",
      "Notes 1562620123.1527522 ['C4', 'E4'] Delta:0.4615384615384599\n",
      "Notes 1562620123.615915 F2 Delta:0.4615384615384599\n",
      "Notes 1562620124.0775418 ['A3', 'C4'] Delta:0.4615384615384599\n",
      "Notes 1562620124.5357282 ['A3', 'C4'] Delta:0.4615384615384599\n",
      "Notes 1562620125.000871 ['A3', 'C4'] Delta:0.4615384615384599\n",
      "Notes 1562620125.4618628 F2 Delta:0.4615384615384599\n",
      "Notes 1562620125.923877 G3 Delta:0.4615384615384599\n",
      "Notes 1562620126.150014 A3 Delta:0.2307692307692335\n",
      "Notes 1562620126.383702 A3 Delta:0.2307692307692335\n",
      "Notes 1562620126.6118422 A3 Delta:0.2307692307692335\n",
      "Notes 1562620126.842604 A3 Delta:0.2307692307692335\n",
      "Notes 1562620127.073418 A3 Delta:0.2307692307692335\n",
      "Notes 1562620127.304209 A3 Delta:0.2307692307692335\n",
      "Notes 1562620127.534973 B3 Delta:0.2307692307692335\n",
      "Notes 1562620127.765701 B3 Delta:0.2307692307692335\n",
      "Notes 1562620128.00053 B3 Delta:0.2307692307692335\n",
      "Notes 1562620128.45948 A3 Delta:0.4615384615384599\n",
      "Notes 1562620128.9251342 A2 Delta:0.4615384615384599\n",
      "Notes 1562620129.381763 G3 Delta:0.4615384615384599\n",
      "Notes 1562620129.6142652 ['A2', 'A3'] Delta:0.2307692307692335\n",
      "Notes 1562620129.843551 A3 Delta:0.2307692307692335\n",
      "Notes 1562620130.078731 A3 Delta:0.2307692307692335\n",
      "Notes 1562620130.305701 A3 Delta:0.2307692307692335\n",
      "Notes 1562620130.535996 A3 Delta:0.2307692307692335\n",
      "Notes 1562620130.767034 ['B3', 'D4'] Delta:0.2307692307692335\n",
      "Notes 1562620131.233891 ['B3', 'D4'] Delta:0.4615384615384599\n",
      "Notes 1562620131.695559 ['B3', 'D4'] Delta:0.4615384615384599\n",
      "Notes 1562620131.923651 ['C4', 'E4'] Delta:0.2307692307692335\n",
      "Notes 1562620132.152722 ['C4', 'E4'] Delta:0.2307692307692335\n",
      "Notes 1562620132.3842912 F2 Delta:0.2307692307692335\n",
      "Notes 1562620132.845845 G3 Delta:0.4615384615384599\n",
      "Notes 1562620133.080323 A3 Delta:0.2307692307692335\n",
      "Notes 1562620133.3089359 A3 Delta:0.2307692307692335\n",
      "Notes 1562620133.543137 A3 Delta:0.2307692307692335\n",
      "Notes 1562620133.770282 A3 Delta:0.2307692307692335\n",
      "Notes 1562620134.002647 A3 Delta:0.2307692307692335\n",
      "Notes 1562620134.232806 A3 Delta:0.2307692307692335\n",
      "Notes 1562620134.464246 B3 Delta:0.2307692307692335\n",
      "Notes 1562620134.6991282 B3 Delta:0.2307692307692335\n",
      "Notes 1562620134.930652 B3 Delta:0.2307692307692335\n",
      "Notes 1562620135.387755 A3 Delta:0.4615384615384599\n",
      "Notes 1562620135.851277 A2 Delta:0.4615384615384599\n",
      "Notes 1562620136.314995 ['C4', 'E4'] Delta:0.4615384615384599\n",
      "Notes 1562620136.775234 ['B3', 'D4'] Delta:0.4615384615384599\n",
      "Notes 1562620137.239785 ['A3', 'C4'] Delta:0.4615384615384599\n",
      "Notes 1562620137.70084 G2 Delta:0.4615384615384599\n",
      "Notes 1562620138.1603541 E4 Delta:0.4615384615384599\n",
      "Notes 1562620138.621542 D4 Delta:0.4615384615384599\n",
      "Notes 1562620139.0883179 C4 Delta:0.4615384615384599\n",
      "Notes 1562620139.5454998 ['A2', 'E4'] Delta:0.4615384615384599\n",
      "Notes 1562620139.777076 G4 Delta:0.2307692307692335\n",
      "Notes 1562620140.0065951 E4 Delta:0.2307692307692335\n",
      "Notes 1562620140.2376509 D4 Delta:0.2307692307692335\n",
      "Notes 1562620140.4690309 E4 Delta:0.2307692307692335\n",
      "Notes 1562620140.9351208 D4 Delta:0.4615384615384599\n",
      "Notes 1562620141.394806 G2 Delta:0.4615384615384599\n",
      "Notes 1562620142.086424 D4 Delta:0.6923076923076934\n",
      "Notes 1562620142.316063 D4 Delta:0.2307692307692335\n",
      "Notes 1562620142.781659 C4 Delta:0.4615384615384599\n",
      "Notes 1562620143.2381508 ['C3', 'E4'] Delta:0.4615384615384599\n",
      "Notes 1562620143.469419 G4 Delta:0.2307692307692335\n",
      "Notes 1562620143.699832 E4 Delta:0.2307692307692335\n",
      "Notes 1562620143.9307468 D4 Delta:0.2307692307692335\n",
      "Notes 1562620144.16551 E4 Delta:0.2307692307692335\n",
      "Notes 1562620144.6239061 D4 Delta:0.4615384615384599\n",
      "Notes 1562620145.089476 F2 Delta:0.4615384615384599\n"
     ]
    },
    {
     "name": "stdout",
     "output_type": "stream",
     "text": [
      "Notes 1562620145.5491788 E4 Delta:0.4615384615384599\n",
      "Notes 1562620146.010242 D4 Delta:0.4615384615384599\n",
      "Notes 1562620146.472224 C4 Delta:0.4615384615384599\n",
      "Notes 1562620146.934134 ['A2', 'A3'] Delta:0.4615384615384599\n",
      "Notes 1562620147.162538 B3 Delta:0.2307692307692335\n",
      "Notes 1562620147.3935308 C4 Delta:0.2307692307692335\n",
      "Notes 1562620148.085654 G4 Delta:0.6923076923076934\n",
      "Notes 1562620148.5471098 ['C4', 'E4'] Delta:0.4615384615384599\n"
     ]
    },
    {
     "ename": "KeyboardInterrupt",
     "evalue": "",
     "output_type": "error",
     "traceback": [
      "\u001b[0;31m---------------------------------------------------------------------------\u001b[0m",
      "\u001b[0;31mKeyboardInterrupt\u001b[0m                         Traceback (most recent call last)",
      "\u001b[0;32m<ipython-input-8-3cfd486ddae8>\u001b[0m in \u001b[0;36m<module>\u001b[0;34m\u001b[0m\n\u001b[1;32m      2\u001b[0m \u001b[0ms\u001b[0m \u001b[0;34m=\u001b[0m\u001b[0msched\u001b[0m\u001b[0;34m.\u001b[0m\u001b[0mscheduler\u001b[0m\u001b[0;34m(\u001b[0m\u001b[0mtime\u001b[0m\u001b[0;34m.\u001b[0m\u001b[0mtime\u001b[0m\u001b[0;34m,\u001b[0m \u001b[0mtime\u001b[0m\u001b[0;34m.\u001b[0m\u001b[0msleep\u001b[0m\u001b[0;34m)\u001b[0m\u001b[0;34m\u001b[0m\u001b[0;34m\u001b[0m\u001b[0m\n\u001b[1;32m      3\u001b[0m \u001b[0mschedule_events\u001b[0m\u001b[0;34m(\u001b[0m\u001b[0mevents\u001b[0m\u001b[0;34m,\u001b[0m \u001b[0ms\u001b[0m\u001b[0;34m)\u001b[0m\u001b[0;34m\u001b[0m\u001b[0;34m\u001b[0m\u001b[0m\n\u001b[0;32m----> 4\u001b[0;31m \u001b[0ms\u001b[0m\u001b[0;34m.\u001b[0m\u001b[0mrun\u001b[0m\u001b[0;34m(\u001b[0m\u001b[0;34m)\u001b[0m\u001b[0;34m\u001b[0m\u001b[0;34m\u001b[0m\u001b[0m\n\u001b[0m\u001b[1;32m      5\u001b[0m \u001b[0;34m\u001b[0m\u001b[0m\n\u001b[1;32m      6\u001b[0m \u001b[0;32mimport\u001b[0m \u001b[0mos\u001b[0m\u001b[0;34m,\u001b[0m \u001b[0mpsutil\u001b[0m\u001b[0;34m\u001b[0m\u001b[0;34m\u001b[0m\u001b[0m\n",
      "\u001b[0;32m/Library/Frameworks/Python.framework/Versions/3.7/lib/python3.7/sched.py\u001b[0m in \u001b[0;36mrun\u001b[0;34m(self, blocking)\u001b[0m\n\u001b[1;32m    147\u001b[0m                 \u001b[0;32mif\u001b[0m \u001b[0;32mnot\u001b[0m \u001b[0mblocking\u001b[0m\u001b[0;34m:\u001b[0m\u001b[0;34m\u001b[0m\u001b[0;34m\u001b[0m\u001b[0m\n\u001b[1;32m    148\u001b[0m                     \u001b[0;32mreturn\u001b[0m \u001b[0mtime\u001b[0m \u001b[0;34m-\u001b[0m \u001b[0mnow\u001b[0m\u001b[0;34m\u001b[0m\u001b[0;34m\u001b[0m\u001b[0m\n\u001b[0;32m--> 149\u001b[0;31m                 \u001b[0mdelayfunc\u001b[0m\u001b[0;34m(\u001b[0m\u001b[0mtime\u001b[0m \u001b[0;34m-\u001b[0m \u001b[0mnow\u001b[0m\u001b[0;34m)\u001b[0m\u001b[0;34m\u001b[0m\u001b[0;34m\u001b[0m\u001b[0m\n\u001b[0m\u001b[1;32m    150\u001b[0m             \u001b[0;32melse\u001b[0m\u001b[0;34m:\u001b[0m\u001b[0;34m\u001b[0m\u001b[0;34m\u001b[0m\u001b[0m\n\u001b[1;32m    151\u001b[0m                 \u001b[0maction\u001b[0m\u001b[0;34m(\u001b[0m\u001b[0;34m*\u001b[0m\u001b[0margument\u001b[0m\u001b[0;34m,\u001b[0m \u001b[0;34m**\u001b[0m\u001b[0mkwargs\u001b[0m\u001b[0;34m)\u001b[0m\u001b[0;34m\u001b[0m\u001b[0;34m\u001b[0m\u001b[0m\n",
      "\u001b[0;31mKeyboardInterrupt\u001b[0m: "
     ]
    }
   ],
   "source": [
    "\n",
    "s =sched.scheduler(time.time, time.sleep)\n",
    "schedule_events(events, s)\n",
    "s.run()\n",
    "\n",
    "import os, psutil\n",
    "pid = os.getpid()\n",
    "print(pid)\n",
    "ps = psutil.Process(pid)ç\n",
    "\n",
    "memoryUse = ps.memory_info()\n",
    "print(memoryUse.vms)"
   ]
  },
  {
   "cell_type": "code",
   "execution_count": 7,
   "metadata": {},
   "outputs": [
    {
     "name": "stdout",
     "output_type": "stream",
     "text": [
      "16613\n",
      "4593594368\n"
     ]
    }
   ],
   "source": [
    "import os, psutil\n",
    "pid = os.getpid()\n",
    "print(pid)\n",
    "ps = psutil.Process(pid)\n",
    "\n",
    "memoryUse = ps.memory_info()\n",
    "print(memoryUse.vms)"
   ]
  },
  {
   "cell_type": "code",
   "execution_count": null,
   "metadata": {},
   "outputs": [],
   "source": []
  },
  {
   "cell_type": "code",
   "execution_count": null,
   "metadata": {},
   "outputs": [],
   "source": []
  }
 ],
 "metadata": {
  "kernelspec": {
   "display_name": "Python 3",
   "language": "python",
   "name": "python3"
  },
  "language_info": {
   "codemirror_mode": {
    "name": "ipython",
    "version": 3
   },
   "file_extension": ".py",
   "mimetype": "text/x-python",
   "name": "python",
   "nbconvert_exporter": "python",
   "pygments_lexer": "ipython3",
   "version": "3.7.3"
  }
 },
 "nbformat": 4,
 "nbformat_minor": 2
}
