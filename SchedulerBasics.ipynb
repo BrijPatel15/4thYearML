{
 "cells": [
  {
   "cell_type": "code",
   "execution_count": 3,
   "metadata": {},
   "outputs": [
    {
     "ename": "ModuleNotFoundError",
     "evalue": "No module named 'ByteConstTable'",
     "output_type": "error",
     "traceback": [
      "\u001b[0;31m---------------------------------------------------------------------------\u001b[0m",
      "\u001b[0;31mModuleNotFoundError\u001b[0m                       Traceback (most recent call last)",
      "\u001b[0;32m<ipython-input-3-82565dfd4183>\u001b[0m in \u001b[0;36m<module>\u001b[0;34m\u001b[0m\n\u001b[1;32m      2\u001b[0m \u001b[0;32mimport\u001b[0m \u001b[0mpandas\u001b[0m \u001b[0;32mas\u001b[0m \u001b[0mpd\u001b[0m\u001b[0;34m\u001b[0m\u001b[0;34m\u001b[0m\u001b[0m\n\u001b[1;32m      3\u001b[0m \u001b[0;32mimport\u001b[0m \u001b[0msys\u001b[0m\u001b[0;34m\u001b[0m\u001b[0;34m\u001b[0m\u001b[0m\n\u001b[0;32m----> 4\u001b[0;31m \u001b[0;32mfrom\u001b[0m \u001b[0msrc\u001b[0m\u001b[0;34m.\u001b[0m\u001b[0mmodules\u001b[0m\u001b[0;34m.\u001b[0m\u001b[0mEventByteConverter\u001b[0m \u001b[0;32mimport\u001b[0m \u001b[0mdataFrameToByteConverter\u001b[0m\u001b[0;34m\u001b[0m\u001b[0;34m\u001b[0m\u001b[0m\n\u001b[0m\u001b[1;32m      5\u001b[0m \u001b[0mGOOD_MIDI_PATH\u001b[0m \u001b[0;34m=\u001b[0m \u001b[0;34m\"music/John_Denver_-_Take_Me_Home_Country_Roads.mid\"\u001b[0m\u001b[0;34m\u001b[0m\u001b[0;34m\u001b[0m\u001b[0m\n\u001b[1;32m      6\u001b[0m \u001b[0;31m#was re-exported to midi with Guitar from: https://onlinesequencer.net\u001b[0m\u001b[0;34m\u001b[0m\u001b[0;34m\u001b[0m\u001b[0;34m\u001b[0m\u001b[0m\n",
      "\u001b[0;32m~/Desktop/4thyearproj/4thYearML/src/modules/EventByteConverter.py\u001b[0m in \u001b[0;36m<module>\u001b[0;34m\u001b[0m\n\u001b[0;32m----> 1\u001b[0;31m \u001b[0;32mfrom\u001b[0m \u001b[0mByteConstTable\u001b[0m \u001b[0;32mimport\u001b[0m \u001b[0mgetByteFromNote\u001b[0m\u001b[0;34m,\u001b[0m \u001b[0mnoteVals\u001b[0m\u001b[0;34m\u001b[0m\u001b[0;34m\u001b[0m\u001b[0m\n\u001b[0m\u001b[1;32m      2\u001b[0m \u001b[0;34m\u001b[0m\u001b[0m\n\u001b[1;32m      3\u001b[0m \u001b[0;32mdef\u001b[0m \u001b[0mdataFrameToByteConverter\u001b[0m\u001b[0;34m(\u001b[0m\u001b[0mevent\u001b[0m\u001b[0;34m)\u001b[0m\u001b[0;34m:\u001b[0m\u001b[0;34m\u001b[0m\u001b[0;34m\u001b[0m\u001b[0m\n\u001b[1;32m      4\u001b[0m     \u001b[0mfinalByteArray\u001b[0m \u001b[0;34m=\u001b[0m \u001b[0mbytearray\u001b[0m\u001b[0;34m(\u001b[0m\u001b[0;34m)\u001b[0m\u001b[0;34m\u001b[0m\u001b[0;34m\u001b[0m\u001b[0m\n\u001b[1;32m      5\u001b[0m     \u001b[0mcolVal\u001b[0m \u001b[0;34m=\u001b[0m \u001b[0mevent\u001b[0m\u001b[0;34m[\u001b[0m\u001b[0;34m\"event\"\u001b[0m\u001b[0;34m]\u001b[0m\u001b[0;34m\u001b[0m\u001b[0;34m\u001b[0m\u001b[0m\n",
      "\u001b[0;31mModuleNotFoundError\u001b[0m: No module named 'ByteConstTable'"
     ]
    }
   ],
   "source": [
    "import src.modules.MidiParser as midi\n",
    "import pandas as pd\n",
    "import sys\n",
    "from src.modules.EventByteConverter import dataFrameToByteConverter\n",
    "GOOD_MIDI_PATH = \"music/John_Denver_-_Take_Me_Home_Country_Roads.mid\"\n",
    "#was re-exported to midi with Guitar from: https://onlinesequencer.net\n",
    "GOOD_MIDI_PATH_1 = \"music/Stitches_by_Shawn_Mendes_.mid\"\n",
    "GOOD_MIDI_PATH_2 = \"music/i_see_fire.mid\""
   ]
  },
  {
   "cell_type": "code",
   "execution_count": 4,
   "metadata": {},
   "outputs": [
    {
     "ename": "NameError",
     "evalue": "name 'GOOD_MIDI_PATH_1' is not defined",
     "output_type": "error",
     "traceback": [
      "\u001b[0;31m---------------------------------------------------------------------------\u001b[0m",
      "\u001b[0;31mNameError\u001b[0m                                 Traceback (most recent call last)",
      "\u001b[0;32m<ipython-input-4-ab27f77d28d7>\u001b[0m in \u001b[0;36m<module>\u001b[0;34m\u001b[0m\n\u001b[0;32m----> 1\u001b[0;31m \u001b[0mprint\u001b[0m\u001b[0;34m(\u001b[0m\u001b[0mmidi\u001b[0m\u001b[0;34m.\u001b[0m\u001b[0mvalidate_file\u001b[0m\u001b[0;34m(\u001b[0m\u001b[0mGOOD_MIDI_PATH_1\u001b[0m\u001b[0;34m)\u001b[0m\u001b[0;34m)\u001b[0m\u001b[0;34m\u001b[0m\u001b[0;34m\u001b[0m\u001b[0m\n\u001b[0m\u001b[1;32m      2\u001b[0m \u001b[0mevents\u001b[0m \u001b[0;34m=\u001b[0m \u001b[0mmidi\u001b[0m\u001b[0;34m.\u001b[0m\u001b[0mparse_notes\u001b[0m\u001b[0;34m(\u001b[0m\u001b[0mGOOD_MIDI_PATH_1\u001b[0m\u001b[0;34m)\u001b[0m\u001b[0;34m\u001b[0m\u001b[0;34m\u001b[0m\u001b[0m\n\u001b[1;32m      3\u001b[0m \u001b[0mevents\u001b[0m\u001b[0;34m.\u001b[0m\u001b[0mhead\u001b[0m\u001b[0;34m(\u001b[0m\u001b[0;34m)\u001b[0m\u001b[0;34m\u001b[0m\u001b[0;34m\u001b[0m\u001b[0m\n\u001b[1;32m      4\u001b[0m \u001b[0;31m# print (GOOD_MIDI_PATH_1, sys.getsizeof(events),\"bytes\")\u001b[0m\u001b[0;34m\u001b[0m\u001b[0;34m\u001b[0m\u001b[0;34m\u001b[0m\u001b[0m\n\u001b[1;32m      5\u001b[0m \u001b[0;34m\u001b[0m\u001b[0m\n",
      "\u001b[0;31mNameError\u001b[0m: name 'GOOD_MIDI_PATH_1' is not defined"
     ]
    }
   ],
   "source": [
    "print(midi.validate_file(GOOD_MIDI_PATH_1))\n",
    "events = midi.parse_notes(GOOD_MIDI_PATH_1)\n",
    "events.head()\n",
    "# print (GOOD_MIDI_PATH_1, sys.getsizeof(events),\"bytes\")\n",
    "\n",
    "print(midi.validate_file(GOOD_MIDI_PATH_2))\n",
    "# events = midi.parse_notes(GOOD_MIDI_PATH_2)\n",
    "# events.head()\n",
    "# print (GOOD_MIDI_PATH_2, sys.getsizeof(events), \"bytes\")"
   ]
  },
  {
   "cell_type": "code",
   "execution_count": 3,
   "metadata": {},
   "outputs": [
    {
     "data": {
      "text/plain": [
       "130.0"
      ]
     },
     "execution_count": 3,
     "metadata": {},
     "output_type": "execute_result"
    }
   ],
   "source": [
    "midi.get_tempo(GOOD_MIDI_PATH_1)"
   ]
  },
  {
   "cell_type": "code",
   "execution_count": 4,
   "metadata": {},
   "outputs": [
    {
     "data": {
      "text/plain": [
       "0.9230769230769231"
      ]
     },
     "execution_count": 4,
     "metadata": {},
     "output_type": "execute_result"
    }
   ],
   "source": [
    "midi.get_duration_seconds(130,2)"
   ]
  },
  {
   "cell_type": "code",
   "execution_count": 5,
   "metadata": {},
   "outputs": [],
   "source": [
    "#scheduler playground\n",
    "import sched, time\n",
    "\n",
    "\n",
    "def send_event(row=None):\n",
    "    # print(\"Notes\", time.time(), note) #change this to actually send something when implemented\n",
    "#     spi = spidev.SpiDev()\n",
    "    print(row)\n",
    "    messageToSend = dataFrameToByteConverter(row)\n",
    "#     spi.open(0,1)\n",
    "#     spi.max_speed_hz = 500000\n",
    "#     spi.mode=0\n",
    "#     resp = spi.xfer2([messageToSend])\n",
    "    print(resp)\n",
    "    \n",
    "def schedule_events(df, s):\n",
    "    if df.empty:\n",
    "        raise Exception(\"No events provided.\")\n",
    "    s.enter(3,1,send_event, argument=('CLAP CLAP CLAP',))\n",
    "    x1=0\n",
    "    x2=0\n",
    "    for index, row in df.head(n=len(df)).iterrows():\n",
    "        times =row['timeOffset']\n",
    "        x2=times\n",
    "        difference = x2-x1   \n",
    "        x1=x2;\n",
    "        note = row['name']\n",
    "        s.enter(3+times, 1, send_event, argument=(note,difference))\n",
    "\n"
   ]
  },
  {
   "cell_type": "code",
   "execution_count": 1,
   "metadata": {},
   "outputs": [],
   "source": [
    "\n",
    "# s =sched.scheduler(time.time, time.sleep)\n",
    "# schedule_events(events, s)\n",
    "# s.run()\n",
    "\n",
    "# import os, psutil\n",
    "# pid = os.getpid()\n",
    "# print(pid)\n",
    "# ps = psutil.Process(pid)\n",
    "\n",
    "# memoryUse = ps.memory_info()\n",
    "# print(memoryUse.vms)"
   ]
  },
  {
   "cell_type": "code",
   "execution_count": 2,
   "metadata": {},
   "outputs": [
    {
     "name": "stdout",
     "output_type": "stream",
     "text": [
      "29106\n",
      "4414779392\n"
     ]
    }
   ],
   "source": [
    "import os, psutil\n",
    "pid = os.getpid()\n",
    "print(pid)\n",
    "ps = psutil.Process(pid)\n",
    "\n",
    "memoryUse = ps.memory_info()\n",
    "print(memoryUse.vms)"
   ]
  },
  {
   "cell_type": "code",
   "execution_count": null,
   "metadata": {},
   "outputs": [],
   "source": []
  },
  {
   "cell_type": "code",
   "execution_count": null,
   "metadata": {},
   "outputs": [],
   "source": []
  }
 ],
 "metadata": {
  "kernelspec": {
   "display_name": "Python 3",
   "language": "python",
   "name": "python3"
  },
  "language_info": {
   "codemirror_mode": {
    "name": "ipython",
    "version": 3
   },
   "file_extension": ".py",
   "mimetype": "text/x-python",
   "name": "python",
   "nbconvert_exporter": "python",
   "pygments_lexer": "ipython3",
   "version": "3.7.3"
  }
 },
 "nbformat": 4,
 "nbformat_minor": 4
}
